{
 "cells": [
  {
   "cell_type": "code",
   "execution_count": 4,
   "metadata": {},
   "outputs": [],
   "source": [
    "import utils\n",
    "import re"
   ]
  },
  {
   "cell_type": "code",
   "execution_count": 2,
   "metadata": {},
   "outputs": [],
   "source": [
    "lgd_raw = utils.read_tsv(\"../data/lgd-attractors/lgd_dataset.tsv\")"
   ]
  },
  {
   "cell_type": "code",
   "execution_count": 46,
   "metadata": {},
   "outputs": [
    {
     "data": {
      "text/plain": [
       "'all cd issues of the album include a bonus track , \" santa claus is comin \\' to town \" , which was not included on the original lp .'"
      ]
     },
     "execution_count": 46,
     "metadata": {},
     "output_type": "execute_result"
    }
   ],
   "source": [
    "sentence = \"all cd issues of the album include a bonus track , `` santa claus is comin ' to town '' , which was not included on the original lp .\"\n",
    "\n",
    "sentence = re.sub(r\"(?<=\\s)(``)(?=(\\s+|$))\", \"\\\"\", sentence)\n",
    "sentence = re.sub(r\"(?<=\\s)('')(?=(\\s+|$))\", \"\\\"\", sentence)\n",
    "sentence"
   ]
  },
  {
   "cell_type": "code",
   "execution_count": 69,
   "metadata": {},
   "outputs": [],
   "source": [
    "# sentence = \"a 1794 plan of the 'castle ' exists , this only shows the 'castle ' as it existed at the end of the 18th century , prior to the development of the site to its current form .\"\n",
    "sentence = \"a lack of other artefacts , however , suggests that the romans probably did not settle there .\"\n",
    "\n",
    "def preprocess(sentence):\n",
    "    sentence = re.sub(r\"(?<=\\s)(``)(?=(\\s+|$))\", \"\\\"\", sentence)\n",
    "    sentence = re.sub(r\"(?<=\\s)('')(?=(\\s+|$))\", \"\\\"\", sentence)\n",
    "\n",
    "    # sentence = re.sub(r\"\\b'\\s+\\b\", \"'\", sentence)\n",
    "    sentence = re.sub(r\"\\b\\s+'(?=(s|t))\", \"'\", sentence)\n",
    "    # sentence = re.sub(r\"\\b(\\s+')\\s+\\b\", r\"\\1\", sentence)\n",
    "    sentence = re.sub(r\"\\s'\\s\", r\"' \", sentence)\n",
    "\n",
    "    sentence = re.sub(r\"\\s+(?=[\\.,?!\\)\\]](\\s+|$))\", r\"\", sentence)\n",
    "    sentence = re.sub(r\"(?<=[\\(\\[])\\s+\", \"\", sentence) # open brackets/parentheses/quotes\n",
    "    # sentence = re.sub(r\"\\s\\\"\\s\", r' \"', sentence)\n",
    "    sentence = re.sub(r'\"\\s*([^\"]*?)\\s*\"', r'\"\\1\"', sentence)\n",
    "    # print(sentence)\n",
    "    return sentence"
   ]
  },
  {
   "cell_type": "code",
   "execution_count": 70,
   "metadata": {},
   "outputs": [],
   "source": [
    "lgd = []\n",
    "\n",
    "for idx, (attractors, sentence, masked, verb_correct, verb_incorrect) in enumerate(lgd_raw):\n",
    "    attractors = int(attractors)\n",
    "    prefix = masked.split(\"***mask***\")[0].strip()\n",
    "\n",
    "    prefix = preprocess(prefix)\n",
    "\n",
    "    lgd.append((idx+1, prefix, verb_correct, verb_incorrect, attractors))"
   ]
  },
  {
   "cell_type": "code",
   "execution_count": 71,
   "metadata": {},
   "outputs": [
    {
     "data": {
      "text/plain": [
       "29985"
      ]
     },
     "execution_count": 71,
     "metadata": {},
     "output_type": "execute_result"
    }
   ],
   "source": [
    "len(lgd)"
   ]
  },
  {
   "cell_type": "code",
   "execution_count": null,
   "metadata": {},
   "outputs": [],
   "source": []
  }
 ],
 "metadata": {
  "kernelspec": {
   "display_name": "dev",
   "language": "python",
   "name": "python3"
  },
  "language_info": {
   "codemirror_mode": {
    "name": "ipython",
    "version": 3
   },
   "file_extension": ".py",
   "mimetype": "text/x-python",
   "name": "python",
   "nbconvert_exporter": "python",
   "pygments_lexer": "ipython3",
   "version": "3.11.11"
  }
 },
 "nbformat": 4,
 "nbformat_minor": 2
}
