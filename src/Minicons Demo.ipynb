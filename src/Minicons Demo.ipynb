{
 "cells": [
  {
   "cell_type": "code",
   "execution_count": 12,
   "id": "c985bdad",
   "metadata": {},
   "outputs": [],
   "source": [
    "from minicons import scorer"
   ]
  },
  {
   "cell_type": "code",
   "execution_count": 2,
   "id": "23216eea",
   "metadata": {},
   "outputs": [],
   "source": [
    "# loading models like gpt2\n",
    "\n",
    "lm = scorer.IncrementalLMScorer(\"gpt2\")"
   ]
  },
  {
   "cell_type": "code",
   "execution_count": 30,
   "id": "f85c3c00",
   "metadata": {},
   "outputs": [],
   "source": [
    "# define a list of sentences\n",
    "\n",
    "sequences = [\n",
    "    \"The key to the cabinets is\",\n",
    "    \"The key to the cabinets are\",\n",
    "    \"The children's key to the cabinets is\",\n",
    "    \"The children's key to the cabinets are\"\n",
    "]"
   ]
  },
  {
   "cell_type": "code",
   "execution_count": 31,
   "id": "226a1934",
   "metadata": {},
   "outputs": [
    {
     "data": {
      "text/plain": [
       "[[('<|endoftext|>', 0.0, 0),\n",
       "  ('The', 0.03754492476582527, 2),\n",
       "  ('key', 0.0005620420561172068, 210),\n",
       "  ('to', 0.2718973159790039, 1),\n",
       "  ('the', 0.06736141443252563, 2),\n",
       "  ('cabinets', 2.197726445274384e-07, 29391),\n",
       "  ('is', 0.24974609911441803, 1)],\n",
       " [('<|endoftext|>', 0.0, 0),\n",
       "  ('The', 0.03754492476582527, 2),\n",
       "  ('key', 0.0005620420561172068, 210),\n",
       "  ('to', 0.2718973159790039, 1),\n",
       "  ('the', 0.06736141443252563, 2),\n",
       "  ('cabinets', 2.197726445274384e-07, 29391),\n",
       "  ('are', 0.03581089526414871, 7)],\n",
       " [('<|endoftext|>', 0.0, 0),\n",
       "  ('The', 0.03754492476582527, 2),\n",
       "  ('children', 0.0002180021838285029, 744),\n",
       "  (\"'s\", 0.21612536907196045, 2),\n",
       "  ('key', 3.4555905585875735e-05, 2297),\n",
       "  ('to', 0.16534392535686493, 1),\n",
       "  ('the', 0.06989080458879471, 2),\n",
       "  ('cabinets', 2.5132524683613156e-07, 26958),\n",
       "  ('is', 0.1951703280210495, 1)],\n",
       " [('<|endoftext|>', 0.0, 0),\n",
       "  ('The', 0.03754492476582527, 2),\n",
       "  ('children', 0.0002180021838285029, 744),\n",
       "  (\"'s\", 0.21612536907196045, 2),\n",
       "  ('key', 3.4555905585875735e-05, 2297),\n",
       "  ('to', 0.16534392535686493, 1),\n",
       "  ('the', 0.06989080458879471, 2),\n",
       "  ('cabinets', 2.5132524683613156e-07, 26958),\n",
       "  ('are', 0.05904894322156906, 5)]]"
      ]
     },
     "execution_count": 31,
     "metadata": {},
     "output_type": "execute_result"
    }
   ],
   "source": [
    "# computes the probability of each word, given previous words, along with their ranks.\n",
    "# a word with rank = 1 means it is the top predicted word, rank = 2 means it is right next\n",
    "# the output is formatted as:\n",
    "# (word, prob, rank)\n",
    "\n",
    "lm.token_score(sequences, bos_token=True, bow_correction=True, prob=True, rank=True)"
   ]
  },
  {
   "cell_type": "code",
   "execution_count": 32,
   "id": "62f3aa5e",
   "metadata": {},
   "outputs": [
    {
     "data": {
      "text/plain": [
       "[-5.2473578453063965,\n",
       " -5.571056365966797,\n",
       " -5.601125240325928,\n",
       " -5.750563144683838]"
      ]
     },
     "execution_count": 32,
     "metadata": {},
     "output_type": "execute_result"
    }
   ],
   "source": [
    "lm.sequence_score(sequences, bos_token=True, bow_correction=True)"
   ]
  },
  {
   "cell_type": "code",
   "execution_count": 10,
   "id": "5e267fc4",
   "metadata": {},
   "outputs": [],
   "source": [
    "sequences = [\n",
    "    \"The key to the cabinets is on the table.\",\n",
    "    \"The key to the cabinets are on the table.\"\n",
    "]"
   ]
  },
  {
   "cell_type": "code",
   "execution_count": null,
   "id": "9638e203",
   "metadata": {},
   "outputs": [],
   "source": []
  },
  {
   "cell_type": "code",
   "execution_count": 11,
   "id": "f15c269b",
   "metadata": {},
   "outputs": [
    {
     "data": {
      "text/plain": [
       "[[('<|endoftext|>', 0.0, 0),\n",
       "  ('The', 0.03754492476582527, 2),\n",
       "  ('key', 0.0005620420561172068, 210),\n",
       "  ('to', 0.2718973159790039, 1),\n",
       "  ('the', 0.06736141443252563, 2),\n",
       "  ('cabinets', 2.197726445274384e-07, 29391),\n",
       "  ('is', 0.24974609911441803, 1),\n",
       "  ('on', 0.0013044162187725306, 43),\n",
       "  ('the', 0.5156798958778381, 1),\n",
       "  ('table', 0.016366302967071533, 13),\n",
       "  ('.', 0.3081151843070984, 1)],\n",
       " [('<|endoftext|>', 0.0, 0),\n",
       "  ('The', 0.03754492476582527, 2),\n",
       "  ('key', 0.0005620420561172068, 210),\n",
       "  ('to', 0.2718973159790039, 1),\n",
       "  ('the', 0.06736141443252563, 2),\n",
       "  ('cabinets', 2.197726445274384e-07, 29391),\n",
       "  ('are', 0.03581089526414871, 7),\n",
       "  ('on', 0.0031473597045987844, 32),\n",
       "  ('the', 0.5310969352722168, 1),\n",
       "  ('table', 0.011074671521782875, 14),\n",
       "  ('.', 0.2383890002965927, 1)]]"
      ]
     },
     "execution_count": 11,
     "metadata": {},
     "output_type": "execute_result"
    }
   ],
   "source": [
    "lm.token_score(sequences, bos_token=True, bow_correction=True, prob=True, rank=True)"
   ]
  },
  {
   "cell_type": "code",
   "execution_count": null,
   "id": "96771e70",
   "metadata": {},
   "outputs": [],
   "source": []
  }
 ],
 "metadata": {
  "kernelspec": {
   "display_name": "Python 3 (ipykernel)",
   "language": "python",
   "name": "python3"
  },
  "language_info": {
   "codemirror_mode": {
    "name": "ipython",
    "version": 3
   },
   "file_extension": ".py",
   "mimetype": "text/x-python",
   "name": "python",
   "nbconvert_exporter": "python",
   "pygments_lexer": "ipython3",
   "version": "3.10.10"
  }
 },
 "nbformat": 4,
 "nbformat_minor": 5
}
